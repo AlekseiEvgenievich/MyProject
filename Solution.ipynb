{
 "cells": [
  {
   "cell_type": "markdown",
   "metadata": {},
   "source": [
    "Cоздание Data Frame df,куда считываются данные с файла"
   ]
  },
  {
   "cell_type": "code",
   "execution_count": 405,
   "metadata": {},
   "outputs": [],
   "source": [
    "import pandas as pd\n",
    "df = pd.read_csv('irisdata.txt', sep=\",\", header=None, names=[\"Sepal length\", \"Sepal width\", \"Petal length\",\"Petal width\",\"class label\"])"
   ]
  },
  {
   "cell_type": "code",
   "execution_count": null,
   "metadata": {},
   "outputs": [],
   "source": [
    "df"
   ]
  },
  {
   "cell_type": "markdown",
   "metadata": {},
   "source": [
    "Cоздание Data Frame df1, где будут храниться данные нашего анализа"
   ]
  },
  {
   "cell_type": "code",
   "execution_count": 406,
   "metadata": {},
   "outputs": [],
   "source": [
    "df1 = pd.DataFrame(columns=['Description','Total','Iris Setosa','Iris Versicolor', 'Iris Virginica'])"
   ]
  },
  {
   "cell_type": "markdown",
   "metadata": {},
   "source": [
    "Cоздание переменных, для считывания агрегированных данных.Рассматриваем столбец Sepal length"
   ]
  },
  {
   "cell_type": "code",
   "execution_count": 407,
   "metadata": {},
   "outputs": [],
   "source": [
    "count_all = df['Sepal length'].count()\n",
    "mean_all = round(float(df['Sepal length'].mean()),2)\n",
    "min_all = float(df['Sepal length'].min())\n",
    "median_all = round(float(df['Sepal length'].median()),2)\n",
    "max_all = float(df['Sepal length'].max())\n",
    "std_all = round(float(df['Sepal length'].std()),2)"
   ]
  },
  {
   "cell_type": "code",
   "execution_count": 408,
   "metadata": {},
   "outputs": [],
   "source": [
    "count_Iris_setosa = df.groupby('class label')['Sepal length'].count()['Iris-setosa']\n",
    "count_Iris_versicolor = df.groupby('class label')['Sepal length'].count()['Iris-versicolor']\n",
    "count_Iris_virginica = df.groupby('class label')['Sepal length'].count()['Iris-virginica']\n",
    "mean_Iris_setosa = round(float(df.groupby('class label')['Sepal length'].mean()['Iris-setosa']),2)\n",
    "mean_Iris_versicolor = round(float(df.groupby('class label')['Sepal length'].mean()['Iris-versicolor']),2)\n",
    "mean_Iris_virginica = round(float(df.groupby('class label')['Sepal length'].mean()['Iris-virginica']),2)\n",
    "min_Iris_setosa = float(df.groupby('class label')['Sepal length'].min()['Iris-setosa'])\n",
    "min_Iris_versicolor = float(df.groupby('class label')['Sepal length'].min()['Iris-versicolor'])\n",
    "min_Iris_virginica = float(df.groupby('class label')['Sepal length'].min()['Iris-virginica'])\n",
    "median_Iris_setosa = round(float(df.groupby('class label')['Sepal length'].median()['Iris-setosa']),2)\n",
    "median_Iris_versicolor = round(float(df.groupby('class label')['Sepal length'].median()['Iris-versicolor']),2)\n",
    "median_Iris_virginica = round(float(df.groupby('class label')['Sepal length'].median()['Iris-virginica']),2)\n",
    "max_Iris_setosa = float(df.groupby('class label')['Sepal length'].max()['Iris-setosa'])\n",
    "max_Iris_versicolor = float(df.groupby('class label')['Sepal length'].max()['Iris-versicolor'])\n",
    "max_Iris_virginica = float(df.groupby('class label')['Sepal length'].max()['Iris-virginica'])\n",
    "std_Iris_setosa = round(float(df.groupby('class label')['Sepal length'].std()['Iris-setosa']),2)\n",
    "std_Iris_versicolor = round(float(df.groupby('class label')['Sepal length'].std()['Iris-versicolor']),2)\n",
    "std_Iris_virginica = round(float(df.groupby('class label')['Sepal length'].std()['Iris-virginica']),2)"
   ]
  },
  {
   "cell_type": "markdown",
   "metadata": {},
   "source": [
    "Вставка данных в дата фрейм"
   ]
  },
  {
   "cell_type": "code",
   "execution_count": 409,
   "metadata": {},
   "outputs": [],
   "source": [
    "new_line00={'Description':'---','Total':'N' + \" = \" +str(count_all),'Iris Setosa':'N' + \" = \" +str(count_Iris_setosa),'Iris Versicolor':'N' + \" = \" +str(count_Iris_versicolor),'Iris Virginica':'N' + \" = \" +str(count_Iris_virginica)}\n",
    "df1 = df1.append(new_line00,ignore_index=True)\n",
    "new_line01={'Description':'=======','Total':'=======','Iris Setosa':'=======','Iris Versicolor':'======','Iris Virginica':'======'}\n",
    "df1 = df1.append(new_line01,ignore_index=True)\n",
    "new_line0 = {'Description':'','Total':'SEPAL LENGTH [CM]','Iris Setosa':'','Iris Versicolor':'','Iris Virginica':''}\n",
    "df1 = df1.append(new_line0,ignore_index=True)\n",
    "new_line1 = {'Description':'N','Total':count_all,'Iris Setosa':count_Iris_setosa,'Iris Versicolor':count_Iris_versicolor,'Iris Virginica':count_Iris_virginica}\n",
    "df1 = df1.append(new_line1,ignore_index=True)\n",
    "new_line2 = {'Description':'mean','Total':format(mean_all,'.2f'),'Iris Setosa':format(mean_Iris_setosa,'.2f'),'Iris Versicolor':format(mean_Iris_versicolor,'.2f'),'Iris Virginica':format(mean_Iris_virginica,'.2f')}\n",
    "df1 = df1.append(new_line2,ignore_index=True)\n",
    "new_line3 = {'Description':'min','Total':format(min_all,'.1f'),'Iris Setosa':format(min_Iris_setosa,'.1f'),'Iris Versicolor':format(min_Iris_versicolor,'.1f'),'Iris Virginica':format(min_Iris_virginica,'.1f')}\n",
    "df1 = df1.append(new_line3,ignore_index=True)\n",
    "new_line4 = {'Description':'median','Total':format(median_all,'.2f'),'Iris Setosa':format(median_Iris_setosa,'.2f'),'Iris Versicolor':format(median_Iris_versicolor,'.2f'),'Iris Virginica':format(median_Iris_virginica,'.2f')}\n",
    "df1 = df1.append(new_line4,ignore_index=True)\n",
    "new_line5 = {'Description':'max','Total':format(max_all,'.1f'),'Iris Setosa':format(max_Iris_setosa,'.1f'),'Iris Versicolor':format(max_Iris_versicolor,'.1f'),'Iris Virginica':format(max_Iris_virginica,'.1f')}\n",
    "df1 = df1.append(new_line5,ignore_index=True)\n",
    "new_line6 = {'Description':'standard deviation','Total':format(std_all,'.2f'),'Iris Setosa':format(std_Iris_setosa,'.2f'),'Iris Versicolor':format(std_Iris_versicolor,'.2f'),'Iris Virginica':format(std_Iris_virginica,'.2f')}\n",
    "df1 = df1.append(new_line6,ignore_index=True)\n"
   ]
  },
  {
   "cell_type": "markdown",
   "metadata": {},
   "source": [
    "Cоздание переменных для различных длин"
   ]
  },
  {
   "cell_type": "code",
   "execution_count": 410,
   "metadata": {},
   "outputs": [],
   "source": [
    "count_total_m5 = df[df['Sepal length'] < 5]['Sepal length'].count()\n",
    "procent_total_m5 = round(float(count_total_m5)*100 / float(count_all),1)\n",
    "itog_total_m5 = str(count_total_m5)+' ( '+str(procent_total_m5)+')'\n",
    "count_IrisSetosa_m5 = df[df['Sepal length'] < 5].groupby('class label')['Sepal length'].count()['Iris-setosa']\n",
    "procent_IrisSetosa_m5 = round(float(count_IrisSetosa_m5)*100 / float(count_Iris_setosa),1)\n",
    "itog_IrisSetosa_m5 = str(count_IrisSetosa_m5)+' ( '+str(procent_IrisSetosa_m5)+')'\n",
    "count_IrisVersicolor_m5 = df[df['Sepal length'] < 5].groupby('class label')['Sepal length'].count()['Iris-versicolor']\n",
    "procent_IrisVersicolor_m5 = round((float(count_IrisVersicolor_m5) / float(count_Iris_versicolor))*100,1)\n",
    "itog_IrisVersicolor_m5 = str(count_IrisVersicolor_m5)+' ( '+ str(procent_IrisVersicolor_m5)+')'\n",
    "count_IrisVirginica_m5 = df[df['Sepal length'] < 5].groupby('class label')['Sepal length'].count()['Iris-virginica']\n",
    "procent_IrisVirginica_m5 = round((float(count_IrisVirginica_m5)/ float(count_Iris_virginica))*100,1)\n",
    "itog_IrisVirginica_m5 = str(count_IrisVirginica_m5)+' ( '+ str(procent_IrisVirginica_m5) + ')'"
   ]
  },
  {
   "cell_type": "code",
   "execution_count": 411,
   "metadata": {},
   "outputs": [],
   "source": [
    "count_total_b56 = df[df['Sepal length'] < 6]['Sepal length'].count() - df[df['Sepal length'] < 5]['Sepal length'].count()\n",
    "procent_total_b56 = round(float(count_total_b56)*100 / float(count_all),1)\n",
    "itog_total_b56 = str(count_total_b56)+' ( '+str(procent_total_b56)+')'\n",
    "count_IrisSetosa_b56 = df[df['Sepal length'] < 6].groupby('class label')['Sepal length'].count()['Iris-setosa']-df[df['Sepal length'] < 5].groupby('class label')['Sepal length'].count()['Iris-setosa']\n",
    "procent_IrisSetosa_b56 = round(float(count_IrisSetosa_b56)*100 / float(count_Iris_setosa),1)\n",
    "itog_IrisSetosa_b56 = str(count_IrisSetosa_b56)+' ( '+str(procent_IrisSetosa_b56)+')'\n",
    "count_IrisVersicolor_b56 = df[df['Sepal length'] < 6].groupby('class label')['Sepal length'].count()['Iris-versicolor'] - df[df['Sepal length'] < 5].groupby('class label')['Sepal length'].count()['Iris-versicolor']\n",
    "procent_IrisVersicolor_b56 = round((float(count_IrisVersicolor_b56) / float(count_Iris_versicolor))*100,1)\n",
    "itog_IrisVersicolor_b56 = str(count_IrisVersicolor_b56)+' ( '+ str(procent_IrisVersicolor_b56)+')'\n",
    "count_IrisVirginica_b56 = df[df['Sepal length'] < 6].groupby('class label')['Sepal length'].count()['Iris-virginica'] - df[df['Sepal length'] < 5].groupby('class label')['Sepal length'].count()['Iris-virginica']\n",
    "procent_IrisVirginica_b56 = round((float(count_IrisVirginica_b56)/ float(count_Iris_virginica))*100,1)\n",
    "itog_IrisVirginica_b56 = str(count_IrisVirginica_b56)+' ( '+ str(procent_IrisVirginica_b56) + ')'\n",
    "\n",
    "    "
   ]
  },
  {
   "cell_type": "code",
   "execution_count": 412,
   "metadata": {},
   "outputs": [],
   "source": [
    "count_total_b67 = df[df['Sepal length'] < 7]['Sepal length'].count() - df[df['Sepal length'] < 6]['Sepal length'].count()\n",
    "procent_total_b67 = round(float(count_total_b67)*100 / float(count_all),1)\n",
    "itog_total_b67 = str(count_total_b67)+' ( '+str(procent_total_b67)+')'\n",
    "count_IrisSetosa_b67 = df[df['Sepal length'] < 7].groupby('class label')['Sepal length'].count()['Iris-setosa']-df[df['Sepal length'] < 6].groupby('class label')['Sepal length'].count()['Iris-setosa']\n",
    "procent_IrisSetosa_b67 = round(float(count_IrisSetosa_b67)*100 / float(count_Iris_setosa),1)\n",
    "itog_IrisSetosa_b67 = str(count_IrisSetosa_b67)+' ( '+str(procent_IrisSetosa_b67)+')'\n",
    "count_IrisVersicolor_b67 = df[df['Sepal length'] < 7].groupby('class label')['Sepal length'].count()['Iris-versicolor'] - df[df['Sepal length'] < 6].groupby('class label')['Sepal length'].count()['Iris-versicolor']\n",
    "procent_IrisVersicolor_b67 = round((float(count_IrisVersicolor_b67) / float(count_Iris_versicolor))*100,1)\n",
    "itog_IrisVersicolor_b67 = str(count_IrisVersicolor_b67)+' ( '+ str(procent_IrisVersicolor_b67)+')'\n",
    "count_IrisVirginica_b67 = df[df['Sepal length'] < 7].groupby('class label')['Sepal length'].count()['Iris-virginica'] - df[df['Sepal length'] < 6].groupby('class label')['Sepal length'].count()['Iris-virginica']\n",
    "procent_IrisVirginica_b67 = round((float(count_IrisVirginica_b67)/ float(count_Iris_virginica))*100,1)\n",
    "itog_IrisVirginica_b67 = str(count_IrisVirginica_b67)+' ( '+ str(procent_IrisVirginica_b67) + ')'"
   ]
  },
  {
   "cell_type": "code",
   "execution_count": 413,
   "metadata": {},
   "outputs": [],
   "source": [
    "count_total_b7 = df[df['Sepal length'] >= 7]['Sepal length'].count() \n",
    "procent_total_b7 = round(float(count_total_b7)*100 / float(count_all),1)\n",
    "itog_total_b7 = str(count_total_b7)+' ( '+str(procent_total_b7)+')'\n",
    "count_IrisSetosa_b7 = df.groupby('class label')['Sepal length'].count()['Iris-setosa'] - count_IrisSetosa_m5 - count_IrisSetosa_b56 - count_IrisSetosa_b67\n",
    "procent_IrisSetosa_b7 = round(float(count_IrisSetosa_b7)*100 / float(count_Iris_setosa),1)\n",
    "itog_IrisSetosa_b7 = str(count_IrisSetosa_b7)+' ( '+str(procent_IrisSetosa_b7)+')'\n",
    "count_IrisVersicolor_b7 = df[df['Sepal length'] >= 7].groupby('class label')['Sepal length'].count()['Iris-versicolor'] \n",
    "procent_IrisVersicolor_b7 = round((float(count_IrisVersicolor_b7) / float(count_Iris_versicolor))*100,1)\n",
    "itog_IrisVersicolor_b7 = str(count_IrisVersicolor_b7)+' ( '+ str(procent_IrisVersicolor_b7)+')'\n",
    "count_IrisVirginica_b7 = df[df['Sepal length'] >= 7].groupby('class label')['Sepal length'].count()['Iris-virginica'] \n",
    "procent_IrisVirginica_b7 = round((float(count_IrisVirginica_b7)/ float(count_Iris_virginica))*100,1)\n",
    "itog_IrisVirginica_b7 = str(count_IrisVirginica_b7)+' ( '+ str(procent_IrisVirginica_b7) + ')'"
   ]
  },
  {
   "cell_type": "markdown",
   "metadata": {},
   "source": [
    "Вставка данных в дата фрейм"
   ]
  },
  {
   "cell_type": "code",
   "execution_count": 414,
   "metadata": {},
   "outputs": [],
   "source": [
    "new_line001 = {'Description':'','Total':'SEPAL LENGTH [%]','Iris Setosa':'','Iris Versicolor':'','Iris Virginica':''}\n",
    "df1 = df1.append(new_line001,ignore_index=True)\n",
    "\n",
    "new_line7 = {'Description':'< 5','Total':itog_total_m5,'Iris Setosa':itog_IrisSetosa_m5,'Iris Versicolor':itog_IrisVersicolor_m5,'Iris Virginica':itog_IrisVirginica_m5}\n",
    "df1 = df1.append(new_line7,ignore_index=True)\n",
    "\n",
    "new_line8 = {'Description':'>= 5 AND < 6','Total':itog_total_b56,'Iris Setosa':itog_IrisSetosa_b56,'Iris Versicolor':itog_IrisVersicolor_b56,'Iris Virginica':itog_IrisVirginica_b56}\n",
    "df1 = df1.append(new_line8,ignore_index=True)\n",
    "\n",
    "new_line9 = {'Description':'>= 6 AND < 7','Total':itog_total_b67,'Iris Setosa':itog_IrisSetosa_b67,'Iris Versicolor':itog_IrisVersicolor_b67,'Iris Virginica':itog_IrisVirginica_b67}\n",
    "df1 = df1.append(new_line9,ignore_index=True)\n",
    "\n",
    "new_line10 = {'Description':'>= 7','Total':itog_total_b7,'Iris Setosa':itog_IrisSetosa_b7,'Iris Versicolor':itog_IrisVersicolor_b7,'Iris Virginica':itog_IrisVirginica_b7}\n",
    "df1 = df1.append(new_line10,ignore_index=True)"
   ]
  },
  {
   "cell_type": "markdown",
   "metadata": {},
   "source": [
    "Аналогично для Sepal width"
   ]
  },
  {
   "cell_type": "code",
   "execution_count": 415,
   "metadata": {},
   "outputs": [],
   "source": [
    "count_all = df['Sepal width'].count()\n",
    "mean_all = round(float(df['Sepal width'].mean()),2)\n",
    "min_all = float(df['Sepal width'].min())\n",
    "median_all = round(float(df['Sepal width'].median()),2)\n",
    "max_all = float(df['Sepal width'].max())\n",
    "std_all = round(float(df['Sepal width'].std()),2)"
   ]
  },
  {
   "cell_type": "code",
   "execution_count": 416,
   "metadata": {},
   "outputs": [],
   "source": [
    "count_Iris_setosa = df.groupby('class label')['Sepal width'].count()['Iris-setosa']\n",
    "count_Iris_versicolor = df.groupby('class label')['Sepal width'].count()['Iris-versicolor']\n",
    "count_Iris_virginica = df.groupby('class label')['Sepal width'].count()['Iris-virginica']\n",
    "mean_Iris_setosa = round(float(df.groupby('class label')['Sepal width'].mean()['Iris-setosa']),2)\n",
    "mean_Iris_versicolor = round(float(df.groupby('class label')['Sepal width'].mean()['Iris-versicolor']),2)\n",
    "mean_Iris_virginica = round(float(df.groupby('class label')['Sepal width'].mean()['Iris-virginica']),2)\n",
    "min_Iris_setosa = float(df.groupby('class label')['Sepal width'].min()['Iris-setosa'])\n",
    "min_Iris_versicolor = float(df.groupby('class label')['Sepal width'].min()['Iris-versicolor'])\n",
    "min_Iris_virginica = float(df.groupby('class label')['Sepal width'].min()['Iris-virginica'])\n",
    "median_Iris_setosa = round(float(df.groupby('class label')['Sepal width'].median()['Iris-setosa']),2)\n",
    "median_Iris_versicolor = round(float(df.groupby('class label')['Sepal width'].median()['Iris-versicolor']),2)\n",
    "median_Iris_virginica = round(float(df.groupby('class label')['Sepal width'].median()['Iris-virginica']),2)\n",
    "max_Iris_setosa = float(df.groupby('class label')['Sepal width'].max()['Iris-setosa'])\n",
    "max_Iris_versicolor = float(df.groupby('class label')['Sepal width'].max()['Iris-versicolor'])\n",
    "max_Iris_virginica = float(df.groupby('class label')['Sepal width'].max()['Iris-virginica'])\n",
    "std_Iris_setosa = round(float(df.groupby('class label')['Sepal width'].std()['Iris-setosa']),2)\n",
    "std_Iris_versicolor = round(float(df.groupby('class label')['Sepal width'].std()['Iris-versicolor']),2)\n",
    "std_Iris_virginica = round(float(df.groupby('class label')['Sepal width'].std()['Iris-virginica']),2)"
   ]
  },
  {
   "cell_type": "code",
   "execution_count": 417,
   "metadata": {},
   "outputs": [],
   "source": [
    "new_line000 = {'Description':'','Total':'SEPAL WIDTH [CM]','Iris Setosa':'','Iris Versicolor':'','Iris Virginica':''}\n",
    "df1 = df1.append(new_line000,ignore_index=True)\n",
    "new_line10 = {'Description':'N','Total':count_all,'Iris Setosa':count_Iris_setosa,'Iris Versicolor':count_Iris_versicolor,'Iris Virginica':count_Iris_virginica}\n",
    "df1 = df1.append(new_line10,ignore_index=True)\n",
    "new_line20 = {'Description':'mean','Total':format(mean_all,'.2f'),'Iris Setosa':format(mean_Iris_setosa,'.2f'),'Iris Versicolor':format(mean_Iris_versicolor,'.2f'),'Iris Virginica':format(mean_Iris_virginica,'.2f')}\n",
    "df1 = df1.append(new_line20,ignore_index=True)\n",
    "new_line30 = {'Description':'min','Total':format(min_all,'.1f'),'Iris Setosa':format(min_Iris_setosa,'.1f'),'Iris Versicolor':format(min_Iris_versicolor,'.1f'),'Iris Virginica':format(min_Iris_virginica,'.1f')}\n",
    "df1 = df1.append(new_line30,ignore_index=True)\n",
    "new_line40 = {'Description':'median','Total':format(median_all,'.2f'),'Iris Setosa':format(median_Iris_setosa,'.2f'),'Iris Versicolor':format(median_Iris_versicolor,'.2f'),'Iris Virginica':format(median_Iris_virginica,'.2f')}\n",
    "df1 = df1.append(new_line40,ignore_index=True)\n",
    "new_line50 = {'Description':'max','Total':format(max_all,'.1f'),'Iris Setosa':format(max_Iris_setosa,'.1f'),'Iris Versicolor':format(max_Iris_versicolor,'.1f'),'Iris Virginica':format(max_Iris_virginica,'.1f')}\n",
    "df1 = df1.append(new_line50,ignore_index=True)\n",
    "new_line60 = {'Description':'standard deviation','Total':format(std_all,'.2f'),'Iris Setosa':format(std_Iris_setosa,'.2f'),'Iris Versicolor':format(std_Iris_versicolor,'.2f'),'Iris Virginica':format(std_Iris_virginica,'.2f')}\n",
    "df1 = df1.append(new_line60,ignore_index=True)"
   ]
  },
  {
   "cell_type": "code",
   "execution_count": 418,
   "metadata": {},
   "outputs": [],
   "source": [
    "count_total_m3 = df[df['Sepal width'] < 3]['Sepal width'].count()\n",
    "procent_total_m3 = round(float(count_total_m3)*100 / float(count_all),1)\n",
    "itog_total_m3 = str(count_total_m3)+' ( '+str(procent_total_m3)+')'\n",
    "count_IrisSetosa_m3 = df[df['Sepal width'] < 3].groupby('class label')['Sepal width'].count()['Iris-setosa']\n",
    "procent_IrisSetosa_m3 = round(float(count_IrisSetosa_m3)*100 / float(count_Iris_setosa),1)\n",
    "itog_IrisSetosa_m3 = str(count_IrisSetosa_m3)+' ( '+str(procent_IrisSetosa_m3)+')'\n",
    "count_IrisVersicolor_m3 = df[df['Sepal width'] < 3].groupby('class label')['Sepal width'].count()['Iris-versicolor']\n",
    "procent_IrisVersicolor_m3 = round((float(count_IrisVersicolor_m3) / float(count_Iris_versicolor))*100,1)\n",
    "itog_IrisVersicolor_m3 = str(count_IrisVersicolor_m3)+' ( '+ str(procent_IrisVersicolor_m3)+')'\n",
    "count_IrisVirginica_m3 = df[df['Sepal width'] < 3].groupby('class label')['Sepal width'].count()['Iris-virginica']\n",
    "procent_IrisVirginica_m3 = round((float(count_IrisVirginica_m3)/ float(count_Iris_virginica))*100,1)\n",
    "itog_IrisVirginica_m3 = str(count_IrisVirginica_m3)+' ( '+ str(procent_IrisVirginica_m3) + ')'"
   ]
  },
  {
   "cell_type": "code",
   "execution_count": 419,
   "metadata": {},
   "outputs": [],
   "source": [
    "count_total_b35 = df[df['Sepal width'] < 3.5]['Sepal width'].count() - df[df['Sepal width'] < 3]['Sepal width'].count()\n",
    "procent_total_b35 = round(float(count_total_b35)*100 / float(count_all),1)\n",
    "itog_total_b35 = str(count_total_b35)+' ( '+str(procent_total_b35)+')'\n",
    "count_IrisSetosa_b35 = df[df['Sepal width'] < 3.5].groupby('class label')['Sepal width'].count()['Iris-setosa']-df[df['Sepal width'] < 3].groupby('class label')['Sepal width'].count()['Iris-setosa']\n",
    "procent_IrisSetosa_b35 = round(float(count_IrisSetosa_b35)*100 / float(count_Iris_setosa),1)\n",
    "itog_IrisSetosa_b35 = str(count_IrisSetosa_b35)+' ( '+str(procent_IrisSetosa_b35)+')'\n",
    "count_IrisVersicolor_b35 = df[df['Sepal width'] < 3.5].groupby('class label')['Sepal width'].count()['Iris-versicolor'] - df[df['Sepal width'] < 3].groupby('class label')['Sepal width'].count()['Iris-versicolor']\n",
    "procent_IrisVersicolor_b35 = round((float(count_IrisVersicolor_b35) / float(count_Iris_versicolor))*100,1)\n",
    "itog_IrisVersicolor_b35 = str(count_IrisVersicolor_b35)+' ( '+ str(procent_IrisVersicolor_b35)+')'\n",
    "count_IrisVirginica_b35 = df[df['Sepal width'] < 3.5].groupby('class label')['Sepal width'].count()['Iris-virginica'] - df[df['Sepal width'] < 3].groupby('class label')['Sepal width'].count()['Iris-virginica']\n",
    "procent_IrisVirginica_b35 = round((float(count_IrisVirginica_b35)/ float(count_Iris_virginica))*100,1)\n",
    "itog_IrisVirginica_b35 = str(count_IrisVirginica_b35)+' ( '+ str(procent_IrisVirginica_b35) + ')'"
   ]
  },
  {
   "cell_type": "code",
   "execution_count": 420,
   "metadata": {},
   "outputs": [],
   "source": [
    "count_total_b45 = df[df['Sepal width'] < 4]['Sepal width'].count() - df[df['Sepal width'] < 3.5]['Sepal width'].count()\n",
    "procent_total_b45 = round(float(count_total_b45)*100 / float(count_all),1)\n",
    "itog_total_b45 = str(count_total_b45)+' ( '+str(procent_total_b45)+')'\n",
    "count_IrisSetosa_b45 = df[df['Sepal width'] < 4].groupby('class label')['Sepal width'].count()['Iris-setosa']-df[df['Sepal width'] < 3.5].groupby('class label')['Sepal width'].count()['Iris-setosa']\n",
    "procent_IrisSetosa_b45 = round(float(count_IrisSetosa_b45)*100 / float(count_Iris_setosa),1)\n",
    "itog_IrisSetosa_b45 = str(count_IrisSetosa_b45)+' ( '+str(procent_IrisSetosa_b45)+')'\n",
    "count_IrisVersicolor_b45 = df[df['Sepal width'] < 4].groupby('class label')['Sepal width'].count()['Iris-versicolor'] - df[df['Sepal width'] < 3.5].groupby('class label')['Sepal width'].count()['Iris-versicolor']\n",
    "procent_IrisVersicolor_b45 = round((float(count_IrisVersicolor_b45) / float(count_Iris_versicolor))*100,1)\n",
    "itog_IrisVersicolor_b45 = str(count_IrisVersicolor_b45)+' ( '+ str(procent_IrisVersicolor_b45)+')'\n",
    "count_IrisVirginica_b45 = df[df['Sepal width'] < 4].groupby('class label')['Sepal width'].count()['Iris-virginica'] - df[df['Sepal width'] < 3.5].groupby('class label')['Sepal width'].count()['Iris-virginica']\n",
    "procent_IrisVirginica_b45 = round((float(count_IrisVirginica_b45)/ float(count_Iris_virginica))*100,1)\n",
    "itog_IrisVirginica_b45 = str(count_IrisVirginica_b45)+' ( '+ str(procent_IrisVirginica_b45) + ')'"
   ]
  },
  {
   "cell_type": "code",
   "execution_count": 421,
   "metadata": {},
   "outputs": [],
   "source": [
    "new_line001 = {'Description':'','Total':'SEPAL WIDTH [%]','Iris Setosa':'','Iris Versicolor':'','Iris Virginica':''}\n",
    "df1 = df1.append(new_line001,ignore_index=True)\n",
    "new_line70 = {'Description':'< 3','Total':itog_total_m3,'Iris Setosa':itog_IrisSetosa_m3,'Iris Versicolor':itog_IrisVersicolor_m3,'Iris Virginica':itog_IrisVirginica_m3}\n",
    "df1 = df1.append(new_line70,ignore_index=True)\n",
    "new_line80 = {'Description':'>=3 AND <3.5','Total':itog_total_b35,'Iris Setosa':itog_IrisSetosa_b35,'Iris Versicolor':itog_IrisVersicolor_b35,'Iris Virginica':itog_IrisVirginica_b35}\n",
    "df1 = df1.append(new_line80,ignore_index=True)\n",
    "new_line90 = {'Description':'>=3.5 AND <4','Total':itog_total_b45,'Iris Setosa':itog_IrisSetosa_b45,'Iris Versicolor':itog_IrisVersicolor_b45,'Iris Virginica':itog_IrisVirginica_b45}\n",
    "df1 = df1.append(new_line90,ignore_index=True)"
   ]
  },
  {
   "cell_type": "code",
   "execution_count": 422,
   "metadata": {},
   "outputs": [],
   "source": [
    "for i in range(0,25):\n",
    "    df1 = df1.rename(index = {i: \"\"})"
   ]
  },
  {
   "cell_type": "markdown",
   "metadata": {},
   "source": [
    "Считывание в файл"
   ]
  },
  {
   "cell_type": "code",
   "execution_count": 423,
   "metadata": {},
   "outputs": [],
   "source": [
    "\n",
    "with open('iris-flowers1.txt', \"wb\") as outfile:\n",
    "    outfile.write('                             Iris Flower Summary \\n')\n",
    "    outfile.write('                                 All Flowers \\n' ) \n",
    "    outfile.write('===================================================================================== \\n' ) \n",
    "    text=df1.to_string()\n",
    "    outfile.write(text.encode())\n",
    "    outfile.write((\"\\n\").encode())\n",
    "    outfile.write('===================================================================================== \\n' ) "
   ]
  },
  {
   "cell_type": "code",
   "execution_count": null,
   "metadata": {},
   "outputs": [],
   "source": []
  }
 ],
 "metadata": {
  "kernelspec": {
   "display_name": "Python 2",
   "language": "python",
   "name": "python2"
  },
  "language_info": {
   "codemirror_mode": {
    "name": "ipython",
    "version": 2
   },
   "file_extension": ".py",
   "mimetype": "text/x-python",
   "name": "python",
   "nbconvert_exporter": "python",
   "pygments_lexer": "ipython2",
   "version": "2.7.16"
  }
 },
 "nbformat": 4,
 "nbformat_minor": 2
}
